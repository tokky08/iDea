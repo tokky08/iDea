{
 "cells": [
  {
   "cell_type": "code",
   "execution_count": 2,
   "metadata": {},
   "outputs": [
    {
     "name": "stdout",
     "output_type": "stream",
     "text": [
      "Requirement already satisfied: selenium in /Users/tokitakazuhito/.pyenv/versions/anaconda3-2019.10/lib/python3.7/site-packages (3.141.0)\n",
      "Requirement already satisfied: urllib3 in /Users/tokitakazuhito/.pyenv/versions/anaconda3-2019.10/lib/python3.7/site-packages (from selenium) (1.24.2)\n"
     ]
    }
   ],
   "source": [
    "!pip install selenium\n",
    "\n",
    "from selenium import webdriver\n",
    "from selenium.webdriver.common.keys import Keys\n",
    "import time"
   ]
  },
  {
   "cell_type": "code",
   "execution_count": 4,
   "metadata": {},
   "outputs": [
    {
     "name": "stdin",
     "output_type": "stream",
     "text": [
      " 山\n"
     ]
    },
    {
     "name": "stdout",
     "output_type": "stream",
     "text": [
      "山 日本\n",
      "山 世界\n",
      "山 画像\n",
      "近くの山\n",
      "山 漢字\n",
      "日本の山 地図\n",
      "山 広辞苑\n",
      "山の名前 かっこいい\n",
      "山 絵\n",
      "山 イラスト\n",
      " \n",
      "日\n",
      "本\n",
      "\n",
      "\n",
      " \n",
      "世\n",
      "界\n",
      "\n",
      "\n",
      " \n",
      "画\n",
      "像\n",
      "\n",
      "\n",
      "近\n",
      "く\n",
      "の\n",
      "\n",
      "\n",
      " \n",
      "漢\n",
      "字\n",
      "\n",
      "\n",
      "日\n",
      "本\n",
      "の\n",
      " \n",
      "地\n",
      "図\n",
      "\n",
      "\n",
      " \n",
      "広\n",
      "辞\n",
      "苑\n",
      "\n",
      "\n",
      "の\n",
      "名\n",
      "前\n",
      " \n",
      "か\n",
      "っ\n",
      "こ\n",
      "い\n",
      "い\n",
      "\n",
      "\n",
      " \n",
      "絵\n",
      "\n",
      "\n",
      " \n",
      "イ\n",
      "ラ\n",
      "ス\n",
      "ト\n"
     ]
    }
   ],
   "source": [
    "driver = webdriver.Chrome(\"driver/chromedriver\")\n",
    "\n",
    "time.sleep(1)\n",
    "\n",
    "driver.get(\"https://www.google.co.jp\")\n",
    "\n",
    "value = input()\n",
    "\n",
    "# 検索窓にSeleniumと入力する\n",
    "selector = '#tsf > div:nth-child(2) > div.A8SBwf > div.RNNXgb > div > div.a4bIc > input'\n",
    "element = driver.find_element_by_css_selector(selector)\n",
    "element.send_keys(value)\n",
    "\n",
    "# enterキーを押す\n",
    "element.send_keys(Keys.ENTER)\n",
    "\n",
    "element = driver.find_element_by_id(\"brs\")\n",
    "element = driver.find_element_by_class_name(\"card-section\")\n",
    "elements = element.text\n",
    "\n",
    "print(elements)\n",
    "\n",
    "for text in elements:\n",
    "    if not text == value:\n",
    "        print(text)\n",
    "        \n",
    "driver.quit()"
   ]
  },
  {
   "cell_type": "code",
   "execution_count": null,
   "metadata": {},
   "outputs": [],
   "source": []
  },
  {
   "cell_type": "code",
   "execution_count": null,
   "metadata": {},
   "outputs": [],
   "source": []
  }
 ],
 "metadata": {
  "kernelspec": {
   "display_name": "Python 3",
   "language": "python",
   "name": "python3"
  },
  "language_info": {
   "codemirror_mode": {
    "name": "ipython",
    "version": 3
   },
   "file_extension": ".py",
   "mimetype": "text/x-python",
   "name": "python",
   "nbconvert_exporter": "python",
   "pygments_lexer": "ipython3",
   "version": "3.7.4"
  }
 },
 "nbformat": 4,
 "nbformat_minor": 4
}
