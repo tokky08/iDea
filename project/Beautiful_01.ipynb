{
 "cells": [
  {
   "cell_type": "code",
   "execution_count": 122,
   "metadata": {},
   "outputs": [
    {
     "name": "stdout",
     "output_type": "stream",
     "text": [
      "店長\n",
      "商業施設\n"
     ]
    }
   ],
   "source": [
    "import requests\n",
    "from bs4 import BeautifulSoup\n",
    "\n",
    "word = input()\n",
    "\n",
    "# スクレイピング対象の URL にリクエストを送り HTML を取得する\n",
    "res = requests.get('https://ja.wikipedia.org/wiki/' + word)\n",
    "\n",
    "# レスポンスの HTML から BeautifulSoup オブジェクトを作る\n",
    "soup = BeautifulSoup(res.text, 'html.parser')\n",
    "\n",
    "elems = soup.find(class_=\"ext-related-articles-card-list\")\n",
    "relation = soup.find_all(\"div\",id=\"mw-normal-catlinks\")\n",
    "\n",
    "ul = relation[0].ul\n",
    "li = ul.find_all(\"li\")\n",
    "try:\n",
    "    result = li[0].string\n",
    "    if resutl == word:\n",
    "        result = li[1].string\n",
    "except IndexError:\n",
    "    result = li[0].string\n",
    "\n",
    "print(result)"
   ]
  },
  {
   "cell_type": "code",
   "execution_count": 154,
   "metadata": {},
   "outputs": [
    {
     "name": "stdout",
     "output_type": "stream",
     "text": [
      "海\n",
      "海森\n"
     ]
    }
   ],
   "source": [
    "import requests\n",
    "from bs4 import BeautifulSoup\n",
    "\n",
    "word = input()\n",
    "\n",
    "# スクレイピング対象の URL にリクエストを送り HTML を取得する\n",
    "res = requests.get('https://www.google.com/search?q=' + word)\n",
    "\n",
    "# レスポンスの HTML から BeautifulSoup オブジェクトを作る\n",
    "soup = BeautifulSoup(res.text, 'html.parser')\n",
    "\n",
    "# elems = soup.find(class_=\"ext-related-articles-card-list\")\n",
    "elems = soup.find_all(\"span\")\n",
    "elems = soup.find_all(class_=\"BNeawe deIvCb AP7Wnd\")\n",
    "    \n",
    "try:\n",
    "    result = elems[2].string\n",
    "    if result == \"関連キーワード\" or result== word:\n",
    "        result = elems[3].string\n",
    "        if len(result.split(\" \"))>1:\n",
    "            if result.split(\" \")[0] == word:\n",
    "                result = result.split(\" \")[1]\n",
    "            else:\n",
    "                result = result.split(\" \")[0]\n",
    "except IndexError:\n",
    "    result = elems[-1].string\n",
    "\n",
    "print(result)"
   ]
  },
  {
   "cell_type": "code",
   "execution_count": 159,
   "metadata": {},
   "outputs": [
    {
     "name": "stdout",
     "output_type": "stream",
     "text": [
      "<re.Match object; span=(0, 7), match='関連キーワード'>\n",
      "<re.Match object; span=(0, 7), match='関連キーワード'>\n",
      "test\n",
      "re\n"
     ]
    }
   ],
   "source": [
    "import re\n",
    "ng_word = \"関連キーワード\"\n",
    "result = \"関連キーワード\"\n",
    "answer = re.search(ng_word, result)\n",
    "print(re.search(ng_word, result))\n",
    "print(answer)\n",
    "\n",
    "if answer:\n",
    "    print(\"test\")\n",
    "    \n",
    "if re.search(ng_word, result):\n",
    "    print(\"re\")"
   ]
  },
  {
   "cell_type": "code",
   "execution_count": null,
   "metadata": {},
   "outputs": [],
   "source": []
  }
 ],
 "metadata": {
  "kernelspec": {
   "display_name": "Python 3",
   "language": "python",
   "name": "python3"
  },
  "language_info": {
   "codemirror_mode": {
    "name": "ipython",
    "version": 3
   },
   "file_extension": ".py",
   "mimetype": "text/x-python",
   "name": "python",
   "nbconvert_exporter": "python",
   "pygments_lexer": "ipython3",
   "version": "3.7.4"
  }
 },
 "nbformat": 4,
 "nbformat_minor": 2
}
