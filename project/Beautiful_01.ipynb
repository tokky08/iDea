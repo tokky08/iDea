{
 "cells": [
  {
   "cell_type": "code",
   "execution_count": 122,
   "metadata": {},
   "outputs": [
    {
     "name": "stdout",
     "output_type": "stream",
     "text": [
      "店長\n",
      "商業施設\n"
     ]
    }
   ],
   "source": [
    "import requests\n",
    "from bs4 import BeautifulSoup\n",
    "\n",
    "word = input()\n",
    "\n",
    "# スクレイピング対象の URL にリクエストを送り HTML を取得する\n",
    "res = requests.get('https://ja.wikipedia.org/wiki/' + word)\n",
    "\n",
    "# レスポンスの HTML から BeautifulSoup オブジェクトを作る\n",
    "soup = BeautifulSoup(res.text, 'html.parser')\n",
    "\n",
    "elems = soup.find(class_=\"ext-related-articles-card-list\")\n",
    "relation = soup.find_all(\"div\",id=\"mw-normal-catlinks\")\n",
    "\n",
    "ul = relation[0].ul\n",
    "li = ul.find_all(\"li\")\n",
    "try:\n",
    "    result = li[0].string\n",
    "    if resutl == word:\n",
    "        result = li[1].string\n",
    "except IndexError:\n",
    "    result = li[0].string\n",
    "\n",
    "print(result)"
   ]
  },
  {
   "cell_type": "code",
   "execution_count": 119,
   "metadata": {},
   "outputs": [],
   "source": [
    "# from bs4 import BeautifulSoup\n",
    "# import requests\n",
    "# # from urllib import request\n",
    "\n",
    "# # url = 'https://ja.wikipedia.org/wiki/%E3%83%8A%E3%83%9E%E3%82%B3'\n",
    "# # response = request.urlopen('https://ja.wikipedia.org/wiki/ネコ')\n",
    "# response = requests.get('https://ja.wikipedia.org/wiki/ネコ')\n",
    "# soup = BeautifulSoup(response)\n",
    "# relation = soup.find_all(\"div\",id=\"mw-normal-catlinks\")\n",
    "# response.close()\n",
    "\n",
    "# ul = relation[0].ul\n",
    "# result = ul.find_all(\"li\")\n",
    "\n",
    "# print(result[1].string)"
   ]
  },
  {
   "cell_type": "code",
   "execution_count": null,
   "metadata": {},
   "outputs": [],
   "source": []
  }
 ],
 "metadata": {
  "kernelspec": {
   "display_name": "Python 3",
   "language": "python",
   "name": "python3"
  },
  "language_info": {
   "codemirror_mode": {
    "name": "ipython",
    "version": 3
   },
   "file_extension": ".py",
   "mimetype": "text/x-python",
   "name": "python",
   "nbconvert_exporter": "python",
   "pygments_lexer": "ipython3",
   "version": "3.7.4"
  }
 },
 "nbformat": 4,
 "nbformat_minor": 2
}
